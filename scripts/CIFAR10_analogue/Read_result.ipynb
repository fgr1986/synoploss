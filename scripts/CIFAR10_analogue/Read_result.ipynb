{
 "cells": [
  {
   "cell_type": "code",
   "execution_count": 1,
   "metadata": {},
   "outputs": [],
   "source": [
    "import matplotlib.pyplot as plt\n",
    "import numpy as np\n",
    "from functools import partial"
   ]
  },
  {
   "cell_type": "code",
   "execution_count": 37,
   "metadata": {},
   "outputs": [
    {
     "name": "stdout",
     "output_type": "stream",
     "text": [
      "[0.9094 0.8847 0.862  0.796  0.6522 0.4304 0.2747 0.2113 0.1424 0.1103\n",
      " 0.1   ] [7.53589148e+07 4.22995493e+08 1.52975220e+08 6.39647198e+07\n",
      " 3.13080053e+07 1.91257628e+07 1.37585149e+07 7.22184925e+06\n",
      " 2.44445984e+06 4.71589694e+05 5.01410076e+04] [0.5696 0.8821 0.877  0.8514 0.7889 0.6693 0.4753 0.3645 0.1976 0.1178\n",
      " 0.1   ] [4.08410834e+08 4.55698638e+08 1.66686098e+08 7.29007594e+07\n",
      " 4.00348387e+07 2.65463897e+07 1.73875356e+07 9.27626467e+06\n",
      " 2.99074612e+06 5.36761378e+05 5.02228080e+04]\n",
      "[7.53589148e+07 4.22995493e+08 1.52975220e+08 6.39647198e+07\n",
      " 3.13080053e+07 1.91257628e+07 1.37585149e+07 7.22184925e+06\n",
      " 2.44445984e+06 4.71589694e+05 5.01410076e+04] [4.08410834e+08 4.55698638e+08 1.66686098e+08 7.29007594e+07\n",
      " 4.00348387e+07 2.65463897e+07 1.73875356e+07 9.27626467e+06\n",
      " 2.99074612e+06 5.36761378e+05 5.02228080e+04]\n",
      "[0.9094 0.8847 0.862  0.796  0.6522 0.4304 0.2747 0.2113 0.1424 0.1103\n",
      " 0.1   ] [7.53589148e+07 4.22995493e+08 1.52975220e+08 6.39647198e+07\n",
      " 3.13080053e+07 1.91257628e+07 1.37585149e+07 7.22184925e+06\n",
      " 2.44445984e+06 4.71589694e+05 5.01410076e+04] [0.5696 0.8821 0.877  0.8514 0.7889 0.6693 0.4753 0.3645 0.1976 0.1178\n",
      " 0.1   ] [4.08410834e+08 4.55698638e+08 1.66686098e+08 7.29007594e+07\n",
      " 4.00348387e+07 2.65463897e+07 1.73875356e+07 9.27626467e+06\n",
      " 2.99074612e+06 5.36761378e+05 5.02228080e+04]\n",
      "[7.53589148e+07 4.22995493e+08 1.52975220e+08 6.39647198e+07\n",
      " 3.13080053e+07 1.91257628e+07 1.37585149e+07 7.22184925e+06\n",
      " 2.44445984e+06 4.71589694e+05 5.01410076e+04] [4.08410834e+08 4.55698638e+08 1.66686098e+08 7.29007594e+07\n",
      " 4.00348387e+07 2.65463897e+07 1.73875356e+07 9.27626467e+06\n",
      " 2.99074612e+06 5.36761378e+05 5.02228080e+04]\n"
     ]
    },
    {
     "data": {
      "image/png": "[encoded data removed]",
      "text/plain": [
       "<Figure size 576x288 with 2 Axes>"
      ]
     },
     "metadata": {
      "needs_background": "light"
     },
     "output_type": "display_data"
    }
   ],
   "source": [
    "def smooth(series):\n",
    "    return (series[1:] + series[:-1]) / 2.\n",
    "\n",
    "def draw_acc(log_file, ax, left=True):\n",
    "    results = np.atleast_2d(log_file)\n",
    "    MAC = 306.264576 * 1.e6\n",
    "    ann_acc = results[:, 0]\n",
    "    ann_syn = results[:, 1] #/ 1.e5\n",
    "    snn_acc = results[:, 2]/100\n",
    "    snn_syn = results[:, 3] #/ 1.e5\n",
    "#     print(results[:, 0], results[:, 1], results[:, 2], results[:, 3])\n",
    "    print(ann_acc, ann_syn, snn_acc, snn_syn)\n",
    "    print(ann_syn, snn_syn)\n",
    "\n",
    "    ax.plot(ann_acc[0], MAC, 'r*', markersize=10, label=\"ANN: Original\")\n",
    "    ax.plot(snn_acc[0], snn_syn[0], 'r+', markersize=10, label=\"SNN: Original ANN->SNN\")\n",
    "#     ax.plot(0.9793, 10.70000 * 1.e5, 'c+', markersize=10, label=\"SNN: Robust WeightNorm\")\n",
    "#     ax.plot(0.9887, 14.70000 * 1.e5, 'c+', markersize=10)\n",
    "    ax.plot(ann_acc[1:], ann_syn[1:], 'b+', label=\"ANN: SynOp + Quant.\")\n",
    "    ax.plot(snn_acc[1:], snn_syn[1:], 'g+', label=\"SNN\")\n",
    "    ax.plot(ann_acc[1:], ann_syn[1:], 'b', alpha=0.5)\n",
    "    ax.plot(snn_acc[1:], snn_syn[1:], 'g', alpha=0.5)\n",
    "    if left:\n",
    "        ax.legend(loc=\"lower right\")\n",
    "#         ax.annotate('0.04M, 90.26%', xy=(ann_acc[8], ann_syn[8]),  xycoords='data',\n",
    "#                 xytext=(0.8, 0.2), textcoords='axes fraction',\n",
    "#                 horizontalalignment='right', verticalalignment='top', color='Blue'\n",
    "#                 )\n",
    "#         ax.annotate('0.17M, 98.46%', xy=(ann_acc[4], ann_syn[4]),  xycoords='data',\n",
    "#                 xytext=(0.95, 0.45), textcoords='axes fraction',\n",
    "#                 horizontalalignment='right', verticalalignment='top', color='b'\n",
    "#                 )\n",
    "#         ax.annotate('0.4M, 92.34%', xy=(snn_acc[0], snn_syn[0]),  xycoords='data',\n",
    "#                 xytext=(0.83, 0.65), textcoords='axes fraction',\n",
    "#                 horizontalalignment='right', verticalalignment='top', color='r'\n",
    "#                 )\n",
    "#         ax.annotate('1.07M, 97.93%', xy=(0.9793, 10.70000 * 1.e5),  xycoords='data',\n",
    "#                 xytext=(0.93, 0.87), textcoords='axes fraction',\n",
    "#                 horizontalalignment='right', verticalalignment='top', color='c'\n",
    "#                 )\n",
    "#         ax.annotate('1.47M, 98.87%', xy=(0.9887, 14.70000 * 1.e5),  xycoords='data',\n",
    "#                 xytext=(0.93, 0.93), textcoords='axes fraction',\n",
    "#                 horizontalalignment='right', verticalalignment='top', color='c'\n",
    "#                 )\n",
    "#         ax.annotate('1.73M, 99.29%', xy=(ann_acc[0], MAC),  xycoords='data',\n",
    "#                 xytext=(0.93, 0.98), textcoords='axes fraction',\n",
    "#                 horizontalalignment='right', verticalalignment='top', color='r'\n",
    "#                 )\n",
    "        ax.set_xlim(0.1, 1)\n",
    "        ax.set_xlabel(\"Test-set accuracy\")\n",
    "        ax.set_ylabel(\"Synaptic operations / MAC\") #, [$10^5$]\n",
    "\n",
    "    if not left:    \n",
    "        ax.grid(True)\n",
    "        ax.set_xlim(0.8, 0.92)\n",
    "        ax.set_ylim(1e7, 10e8)\n",
    "        ax.set_xticks(np.arange(0.80, 0.92, 0.025), minor=True)\n",
    "        ax.grid(axis='x', markevery=0.01, which='both')\n",
    "\n",
    "    ax.set_yscale('log')\n",
    "    \n",
    "    return results\n",
    "    \n",
    "fig, ax = plt.subplots(1, 2, figsize=(8, 4), gridspec_kw={'width_ratios': [2.5, 1]})\n",
    "# f = np.loadtxt(\"log_200epoch.txt\")\n",
    "# draw_acc(f)\n",
    "f1 = np.loadtxt(\"log_lr0.1.txt\")\n",
    "results = draw_acc(f1, ax[0])\n",
    "draw_acc(f1, ax[1], False)\n",
    "plt.savefig(\"analog_CIFAR_scale_down.pdf\")"
   ]
  },
  {
   "cell_type": "code",
   "execution_count": 14,
   "metadata": {},
   "outputs": [
    {
     "data": {
      "text/plain": [
       "array([0.9094, 0.8847, 0.862 , 0.796 , 0.6522, 0.4304, 0.2747, 0.2113,\n",
       "       0.1424, 0.1103, 0.1   ])"
      ]
     },
     "execution_count": 14,
     "metadata": {},
     "output_type": "execute_result"
    }
   ],
   "source": [
    "results[:,0]"
   ]
  },
  {
   "cell_type": "code",
   "execution_count": 16,
   "metadata": {},
   "outputs": [
    {
     "data": {
      "text/plain": [
       "array([7.53589148e+07, 4.22995493e+08, 1.52975220e+08, 6.39647198e+07,\n",
       "       3.13080053e+07, 1.91257628e+07, 1.37585149e+07, 7.22184925e+06,\n",
       "       2.44445984e+06, 4.71589694e+05, 5.01410076e+04])"
      ]
     },
     "execution_count": 16,
     "metadata": {},
     "output_type": "execute_result"
    }
   ],
   "source": [
    "results[:,1]"
   ]
  },
  {
   "cell_type": "code",
   "execution_count": 17,
   "metadata": {},
   "outputs": [
    {
     "data": {
      "text/plain": [
       "array([56.96, 88.21, 87.7 , 85.14, 78.89, 66.93, 47.53, 36.45, 19.76,\n",
       "       11.78, 10.  ])"
      ]
     },
     "execution_count": 17,
     "metadata": {},
     "output_type": "execute_result"
    }
   ],
   "source": [
    "results[:,2]"
   ]
  },
  {
   "cell_type": "code",
   "execution_count": 18,
   "metadata": {},
   "outputs": [
    {
     "data": {
      "text/plain": [
       "array([4.08410834e+08, 4.55698638e+08, 1.66686098e+08, 7.29007594e+07,\n",
       "       4.00348387e+07, 2.65463897e+07, 1.73875356e+07, 9.27626467e+06,\n",
       "       2.99074612e+06, 5.36761378e+05, 5.02228080e+04])"
      ]
     },
     "execution_count": 18,
     "metadata": {},
     "output_type": "execute_result"
    }
   ],
   "source": [
    "results[:,3]"
   ]
  },
  {
   "cell_type": "code",
   "execution_count": null,
   "metadata": {},
   "outputs": [],
   "source": []
  }
 ],
 "metadata": {
  "kernelspec": {
   "display_name": "Python 3",
   "language": "python",
   "name": "python3"
  },
  "language_info": {
   "codemirror_mode": {
    "name": "ipython",
    "version": 3
   },
   "file_extension": ".py",
   "mimetype": "text/x-python",
   "name": "python",
   "nbconvert_exporter": "python",
   "pygments_lexer": "ipython3",
   "version": "3.7.2"
  }
 },
 "nbformat": 4,
 "nbformat_minor": 2
}
